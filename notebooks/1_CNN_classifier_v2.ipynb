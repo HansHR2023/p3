{
 "cells": [
  {
   "cell_type": "code",
   "execution_count": 12,
   "id": "52f63566-83db-4804-8c00-71ac1ab67026",
   "metadata": {},
   "outputs": [],
   "source": [
    "# image resize (224,224) \n",
    "# 16 epochs \n",
    "# Train Acc = 98\n",
    "# Test Acc = 69\n",
    "\n",
    "# image resize (224,224) \n",
    "# 16 epochs \n",
    "# Train Acc = 96 na eerder 99\n",
    "# Test Acc = 67\n",
    "\n",
    "# image resize (224,224) \n",
    "# 16 epochs \n",
    "# Train Acc = 99\n",
    "# Test Acc = 61\n",
    "\n",
    "# image resize (224,224) \n",
    "# 16 epochs \n",
    "# Train Acc = 99\n",
    "# Test Acc = 65\n",
    "\n",
    "# check op overfitten !"
   ]
  },
  {
   "cell_type": "code",
   "execution_count": 5,
   "id": "302f133d-71a0-4460-a038-01b2133e6b7a",
   "metadata": {},
   "outputs": [
    {
     "name": "stdout",
     "output_type": "stream",
     "text": [
      "<class 'numpy.ndarray'>\n"
     ]
    }
   ],
   "source": [
    "print(type(image_tensors[0]))"
   ]
  },
  {
   "cell_type": "code",
   "execution_count": null,
   "id": "991f6d3f-2c28-48ed-970d-b40ff57f385a",
   "metadata": {},
   "outputs": [],
   "source": []
  }
 ],
 "metadata": {
  "kernelspec": {
   "display_name": "Python 3 (ipykernel)",
   "language": "python",
   "name": "python3"
  },
  "language_info": {
   "codemirror_mode": {
    "name": "ipython",
    "version": 3
   },
   "file_extension": ".py",
   "mimetype": "text/x-python",
   "name": "python",
   "nbconvert_exporter": "python",
   "pygments_lexer": "ipython3",
   "version": "3.10.10"
  }
 },
 "nbformat": 4,
 "nbformat_minor": 5
}
