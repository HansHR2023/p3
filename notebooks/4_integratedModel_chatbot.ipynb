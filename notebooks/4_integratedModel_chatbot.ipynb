{
 "cells": [
  {
   "cell_type": "code",
   "execution_count": 7,
   "id": "4af8fb49-1eee-4885-9fdc-3301cc1c3553",
   "metadata": {},
   "outputs": [
    {
     "name": "stdout",
     "output_type": "stream",
     "text": [
      "120\n"
     ]
    }
   ],
   "source": [
    "print(len(test_dataset))"
   ]
  },
  {
   "cell_type": "code",
   "execution_count": 6,
   "id": "711a9757-ca75-417e-b235-caaad9ea3bb0",
   "metadata": {},
   "outputs": [
    {
     "name": "stdout",
     "output_type": "stream",
     "text": [
      "cpu\n"
     ]
    },
    {
     "name": "stderr",
     "output_type": "stream",
     "text": [
      "/home/pans/miniconda3/envs/miw/lib/python3.10/site-packages/torchvision/models/_utils.py:208: UserWarning: The parameter 'pretrained' is deprecated since 0.13 and may be removed in the future, please use 'weights' instead.\n",
      "  warnings.warn(\n",
      "/home/pans/miniconda3/envs/miw/lib/python3.10/site-packages/torchvision/models/_utils.py:223: UserWarning: Arguments other than a weight enum or `None` for 'weights' are deprecated since 0.13 and may be removed in the future. The current behavior is equivalent to passing `weights=ResNet18_Weights.IMAGENET1K_V1`. You can also use `weights=ResNet18_Weights.DEFAULT` to get the most up-to-date weights.\n",
      "  warnings.warn(msg)\n"
     ]
    },
    {
     "name": "stdout",
     "output_type": "stream",
     "text": [
      "[0, 0, 0, 0, 0, 0, 3, 0, 3, 0, 3, 0, 0, 0, 3, 3, 0, 0, 0, 3, 0, 3, 3, 0, 0, 3, 0, 3, 0, 0, 0, 0, 3, 0, 0, 1, 1, 1, 1, 1, 1, 0, 0, 1, 0, 3, 0, 2, 1, 3, 0, 1, 1, 1, 2, 2, 2, 2, 2, 2, 2, 2, 2, 3, 2, 2, 2, 2, 2, 2, 2, 2, 2, 2, 2, 2, 2, 2, 2, 2, 2, 2, 2, 2, 2, 2, 2, 3, 2, 2, 2, 2, 3, 3, 3, 3, 3, 2, 3, 3, 3, 3, 3, 2, 3, 3, 3, 3, 3, 3, 3, 3, 3, 3, 3, 2, 3, 3, 3, 3]\n",
      "[0, 0, 0, 0, 0, 0, 0, 0, 0, 0, 0, 0, 0, 0, 0, 0, 0, 0, 0, 0, 0, 0, 0, 0, 0, 0, 0, 0, 0, 0, 1, 1, 1, 1, 1, 1, 1, 1, 1, 1, 1, 1, 1, 1, 1, 1, 1, 1, 1, 1, 1, 1, 1, 1, 2, 2, 2, 2, 2, 2, 2, 2, 2, 2, 2, 2, 2, 2, 2, 2, 2, 2, 2, 2, 2, 2, 2, 2, 2, 2, 2, 2, 2, 2, 2, 2, 2, 2, 2, 2, 2, 2, 3, 3, 3, 3, 3, 3, 3, 3, 3, 3, 3, 3, 3, 3, 3, 3, 3, 3, 3, 3, 3, 3, 3, 3, 3, 3, 3, 3]\n",
      "0\n",
      "[[20  0  0 10]\n",
      " [ 9 11  1  3]\n",
      " [ 0  0 36  2]\n",
      " [ 0  0  3 25]]\n"
     ]
    },
    {
     "data": {
      "image/png": "[encoded data removed]",
      "text/plain": [
       "<Figure size 800x800 with 2 Axes>"
      ]
     },
     "metadata": {},
     "output_type": "display_data"
    }
   ],
   "source": [
    "import torch\n",
    "import torch.nn as nn\n",
    "import torchvision.transforms as transforms\n",
    "from torchvision.datasets import ImageFolder\n",
    "from torch.utils.data import DataLoader\n",
    "from sklearn.metrics import confusion_matrix\n",
    "import seaborn as sns\n",
    "import pandas as pd\n",
    "import numpy as np\n",
    "import matplotlib.pyplot as plt\n",
    "from torchvision.models import resnet18\n",
    "import random\n",
    "\n",
    "# device = torch.device(\"cuda\" if torch.cuda.is_available() else \"cpu\")\n",
    "device = torch.device(\"cpu\")\n",
    "print(device)\n",
    "\n",
    "num_classes = 4\n",
    "image_size = 224\n",
    "batch_size = 16\n",
    "dropout = 0.5\n",
    "\n",
    "# Resnet model\n",
    "model = resnet18(pretrained=True)\n",
    "num_features = model.fc.in_features\n",
    "model.fc = nn.Linear(num_features, num_classes)\n",
    "model = model.to(device)\n",
    "\n",
    "model.load_state_dict(torch.load('../models/resnet_weigth_best.pth', map_location=torch.device('cpu')))\n",
    "model.eval()\n",
    "\n",
    "\n",
    "# # model = CNNModel(num_classes, image_size, dropout)\n",
    "# model = torch.load('./Team_Complate_Model_2.pth')\n",
    "# model = model.to(device)\n",
    "# # model.load_state_dict(torch.load('./Team_Weith_Model_1.pth'))\n",
    "# model.eval()\n",
    "\n",
    "\n",
    "# Define the transformations for test data before entering the neural network\n",
    "transform_test = transforms.Compose([\n",
    "    transforms.Resize((image_size, image_size)),                     # Resize images to 224x224 pixels\n",
    "    transforms.ToTensor(),                                           # Convert images to tensors\n",
    "    transforms.Normalize(mean=[0.5, 0.5, 0.5], std=[0.5, 0.5, 0.5])  # Normalize the images\n",
    "])\n",
    "\n",
    "# Load dataset path\n",
    "test_dir = \"../data/Test\"\n",
    "\n",
    "# Load the test dataset\n",
    "test_dataset = ImageFolder(test_dir, transform=transform_test)\n",
    "\n",
    "test_dataset = list(test_dataset)\n",
    "\n",
    "# test_dataset = random.sample(test_dataset, k=100) # for normalisation purpose\n",
    "\n",
    "# Create DataLoader for managing the test data batches\n",
    "test_loader = DataLoader(test_dataset, batch_size=batch_size, shuffle=False)\n",
    "\n",
    "\n",
    "# def test(model, criterion, test_loader, device):\n",
    "#     model.eval()\n",
    "#     correct = 0\n",
    "#     total = 0\n",
    "#     running_loss = 0.0\n",
    "\n",
    "#     with torch.no_grad():\n",
    "#         for inputs, labels in test_loader:\n",
    "#             inputs = inputs.to(device)\n",
    "#             labels = labels.to(device)\n",
    "\n",
    "#             outputs = model(inputs)\n",
    "#             loss = criterion(outputs, labels)\n",
    "\n",
    "#             _, predicted = torch.max(outputs.data, 1)\n",
    "#             total += labels.size(0)\n",
    "#             correct += (predicted == labels).sum().item()\n",
    "\n",
    "#             running_loss += loss.item()\n",
    "\n",
    "#     accuracy = 100.0 * correct / total\n",
    "#     return running_loss / len(test_loader), accuracy\n",
    "\n",
    "# criterion = nn.CrossEntropyLoss()\n",
    "\n",
    "# test_loss, test_accuracy = test(model, criterion, test_loader, device)\n",
    "# print(f'Test Loss: {test_loss:.4f}, Test Accuracy: {test_accuracy:.2f}%')\n",
    "\n",
    "y_pred = []\n",
    "y_true = []\n",
    "quantity = 0\n",
    "# Iterate over test data\n",
    "for inputs, labels in test_loader:\n",
    "    inputs = inputs.to(device)\n",
    "    labels = labels.to(device)\n",
    "    output = model(inputs)  # Feed Network\n",
    "    output = torch.argmax(torch.exp(output), dim=1).cpu().numpy()\n",
    "\n",
    "        \n",
    "    y_pred.extend(output)  # Save Prediction\n",
    "    labels = labels.cpu().numpy()\n",
    "    y_true.extend(labels)  # Save Truth\n",
    "\n",
    "# Class labels\n",
    "classes = ('0', '1', '2', '3') # with cat 1 is good apple\n",
    "# test_dataset.class_to_idx\n",
    "# idx2class = {v: k for k, v in test_dataset.class_to_idx.items()}\n",
    "\n",
    "print(y_pred)\n",
    "print(y_true)\n",
    "print(quantity)\n",
    "\n",
    "\n",
    "# Build confusion matrix\n",
    "cf_matrix = confusion_matrix(y_true, y_pred) # y-axis = y_true (labels) and x-axis = y_pred (model predictions)\n",
    "print(cf_matrix)\n",
    "\n",
    "# confusion_matrix_df = pd.DataFrame(confusion_matrix(y_true, y_pred)).rename(columns=idx2class, index=idx2class)\n",
    "confusion_matrix_df = pd.DataFrame(cf_matrix, columns=classes, index=classes)\n",
    "fig, ax = plt.subplots(figsize=(8, 8))\n",
    "sns.heatmap(confusion_matrix_df, annot=True, ax=ax)\n",
    "plt.show()\n"
   ]
  },
  {
   "cell_type": "code",
   "execution_count": 3,
   "id": "6ead876d-993b-4e6d-8843-cb7107f92f7a",
   "metadata": {},
   "outputs": [
    {
     "name": "stdout",
     "output_type": "stream",
     "text": [
      "50\n",
      "3\n",
      "10\n",
      "16\n",
      "21\n",
      "47\n",
      "50\n",
      "{'normal': 3, 'blotched': 10, 'rotten': 16, 'scab': 21}\n",
      "50\n",
      "% slechte appels: 94.0\n",
      "Klasse 4: naar de varkens ermee!\n"
     ]
    }
   ],
   "source": [
    "sample32 = random.sample(y_pred, k=50)\n",
    "\n",
    "# print(sample32)\n",
    "print(len(sample32))\n",
    "\n",
    "Blotch_Apple = 0\n",
    "Normal_Apple= 0\n",
    "Rot_Apple = 0\n",
    "Scab_Apple= 0\n",
    "amount_bad = 0\n",
    "\n",
    "for i in sample32:\n",
    "    if i == 1:  # good apple\n",
    "        Normal_Apple += 1\n",
    "    elif i == 0:\n",
    "        Blotch_Apple += 1\n",
    "        amount_bad += 1\n",
    "    elif i == 2:\n",
    "        Rot_Apple += 1\n",
    "        amount_bad += 1      \n",
    "    else:\n",
    "        Scab_Apple += 1\n",
    "        amount_bad += 1 \n",
    "print(Normal_Apple)   \n",
    "print(Blotch_Apple)   \n",
    "print(Rot_Apple)   \n",
    "print(Scab_Apple)  \n",
    "print(amount_bad)   \n",
    "print(Normal_Apple + amount_bad)\n",
    "\n",
    "outcome_dict= {'normal': Normal_Apple, 'blotched': Blotch_Apple, 'rotten': Rot_Apple, 'scab': Scab_Apple}\n",
    "print(outcome_dict)\n",
    "\n",
    "tot_num_outcome_dict = len(sample32)\n",
    "print(tot_num_outcome_dict)\n",
    "\n",
    "perc_bad_apples = (amount_bad/len(sample32))*100\n",
    "print(f'% slechte appels: {perc_bad_apples}')\n",
    "\n",
    "if perc_bad_apples <= 0.4:\n",
    "    print('Klasse 1: naar supermarkt')\n",
    "elif perc_bad_apples > 0.4 and perc_bad_apples < 6.5:\n",
    "    print('Klasse 2: naar appelmoesfabriek')\n",
    "elif perc_bad_apples >= 6.5 and perc_bad_apples < 15:\n",
    "    print('Klasse 3: naar appelstroopfabriek')\n",
    "else:\n",
    "    print('Klasse 4: naar de varkens ermee!')"
   ]
  },
  {
   "cell_type": "code",
   "execution_count": 15,
   "id": "64b279ee-a6ba-44d6-be11-dc5dc873d755",
   "metadata": {},
   "outputs": [],
   "source": [
    "# !pip install -U sentence-transformers"
   ]
  },
  {
   "cell_type": "code",
   "execution_count": 4,
   "id": "de553b27-c6b0-4ab6-8743-f0c0a07c3ebb",
   "metadata": {},
   "outputs": [
    {
     "data": {
      "application/vnd.jupyter.widget-view+json": {
       "model_id": "6c7b89abe24a4122ad635e3bbbe6608f",
       "version_major": 2,
       "version_minor": 0
      },
      "text/plain": [
       "Downloading (…)925a9/.gitattributes:   0%|          | 0.00/690 [00:00<?, ?B/s]"
      ]
     },
     "metadata": {},
     "output_type": "display_data"
    },
    {
     "data": {
      "application/vnd.jupyter.widget-view+json": {
       "model_id": "4042d4a02a1a4611982892d6b202dd0f",
       "version_major": 2,
       "version_minor": 0
      },
      "text/plain": [
       "Downloading (…)_Pooling/config.json:   0%|          | 0.00/190 [00:00<?, ?B/s]"
      ]
     },
     "metadata": {},
     "output_type": "display_data"
    },
    {
     "data": {
      "application/vnd.jupyter.widget-view+json": {
       "model_id": "e769db90a0344171830efa5ae0758858",
       "version_major": 2,
       "version_minor": 0
      },
      "text/plain": [
       "Downloading (…)1a515925a9/README.md:   0%|          | 0.00/3.99k [00:00<?, ?B/s]"
      ]
     },
     "metadata": {},
     "output_type": "display_data"
    },
    {
     "data": {
      "application/vnd.jupyter.widget-view+json": {
       "model_id": "9d3c14cddb564c0799ea2a43e3d1dd61",
       "version_major": 2,
       "version_minor": 0
      },
      "text/plain": [
       "Downloading (…)515925a9/config.json:   0%|          | 0.00/550 [00:00<?, ?B/s]"
      ]
     },
     "metadata": {},
     "output_type": "display_data"
    },
    {
     "data": {
      "application/vnd.jupyter.widget-view+json": {
       "model_id": "4342af35e7c3487abb0ad87b2d9f2e81",
       "version_major": 2,
       "version_minor": 0
      },
      "text/plain": [
       "Downloading (…)ce_transformers.json:   0%|          | 0.00/122 [00:00<?, ?B/s]"
      ]
     },
     "metadata": {},
     "output_type": "display_data"
    },
    {
     "data": {
      "application/vnd.jupyter.widget-view+json": {
       "model_id": "a3d69cbc0e8840d7ac6aef562a6be0b8",
       "version_major": 2,
       "version_minor": 0
      },
      "text/plain": [
       "Downloading pytorch_model.bin:   0%|          | 0.00/265M [00:00<?, ?B/s]"
      ]
     },
     "metadata": {},
     "output_type": "display_data"
    },
    {
     "data": {
      "application/vnd.jupyter.widget-view+json": {
       "model_id": "41b7aa5884bb475c82a69561fbcfc134",
       "version_major": 2,
       "version_minor": 0
      },
      "text/plain": [
       "Downloading (…)nce_bert_config.json:   0%|          | 0.00/53.0 [00:00<?, ?B/s]"
      ]
     },
     "metadata": {},
     "output_type": "display_data"
    },
    {
     "data": {
      "application/vnd.jupyter.widget-view+json": {
       "model_id": "ebd03f76be3e4c68818bb5c9bad830a5",
       "version_major": 2,
       "version_minor": 0
      },
      "text/plain": [
       "Downloading (…)cial_tokens_map.json:   0%|          | 0.00/112 [00:00<?, ?B/s]"
      ]
     },
     "metadata": {},
     "output_type": "display_data"
    },
    {
     "data": {
      "application/vnd.jupyter.widget-view+json": {
       "model_id": "aec06375db6f4493a212f8279367b46d",
       "version_major": 2,
       "version_minor": 0
      },
      "text/plain": [
       "Downloading (…)925a9/tokenizer.json:   0%|          | 0.00/466k [00:00<?, ?B/s]"
      ]
     },
     "metadata": {},
     "output_type": "display_data"
    },
    {
     "data": {
      "application/vnd.jupyter.widget-view+json": {
       "model_id": "540e458b6514413faee95e211325c83e",
       "version_major": 2,
       "version_minor": 0
      },
      "text/plain": [
       "Downloading (…)okenizer_config.json:   0%|          | 0.00/450 [00:00<?, ?B/s]"
      ]
     },
     "metadata": {},
     "output_type": "display_data"
    },
    {
     "data": {
      "application/vnd.jupyter.widget-view+json": {
       "model_id": "f9434efc015d4b67b8813110e5c9cded",
       "version_major": 2,
       "version_minor": 0
      },
      "text/plain": [
       "Downloading (…)1a515925a9/vocab.txt:   0%|          | 0.00/232k [00:00<?, ?B/s]"
      ]
     },
     "metadata": {},
     "output_type": "display_data"
    },
    {
     "data": {
      "application/vnd.jupyter.widget-view+json": {
       "model_id": "df109e02d4b7426a821956d9912ecd8a",
       "version_major": 2,
       "version_minor": 0
      },
      "text/plain": [
       "Downloading (…)15925a9/modules.json:   0%|          | 0.00/229 [00:00<?, ?B/s]"
      ]
     },
     "metadata": {},
     "output_type": "display_data"
    },
    {
     "name": "stdin",
     "output_type": "stream",
     "text": [
      "User:  percentage bad apples\n"
     ]
    },
    {
     "name": "stdout",
     "output_type": "stream",
     "text": [
      "Chat bot: The percentage of bad apples is 94.00%.\n"
     ]
    },
    {
     "name": "stdin",
     "output_type": "stream",
     "text": [
      "User:  fit for apple mouse\n"
     ]
    },
    {
     "name": "stdout",
     "output_type": "stream",
     "text": [
      "Chat bot: Yes, we can use this apple batch to make apple mousse.\n"
     ]
    },
    {
     "name": "stdin",
     "output_type": "stream",
     "text": [
      "User:  exit\n"
     ]
    },
    {
     "name": "stdout",
     "output_type": "stream",
     "text": [
      "Chat bot: Goodbye!\n"
     ]
    }
   ],
   "source": [
    "from sentence_transformers import SentenceTransformer\n",
    "from scipy.spatial.distance import cosine\n",
    "\n",
    "# Load the pre-trained sentence transformer model\n",
    "model = SentenceTransformer('distilbert-base-nli-mean-tokens')\n",
    "\n",
    "# Define a list of sample questions\n",
    "questions = [\n",
    "    \"Can you tell me the total number of apples in the batch?\",\n",
    "    \"What is the percentage of bad apples?\",\n",
    "    \"How many bad apples are there in an approved batch?\",\n",
    "    \"How many apples are categorized as blotch?\",\n",
    "    \"What is the proportion of rotten apples?\",\n",
    "    \"Can we use this apple batch to make apple mousse?\",\n",
    "    \"Are there enough healthy apples to make apple sauce?\",\n",
    "    \"Can we use this batch for the supermarket if the acceptance quality is increased by 1 percentage for the klasse 1?\",\n",
    "    \"Does the quality of the batch increase when the batch size is increased?\",\n",
    "    \"What’s the average ratio between the healthy and unhealthy apples for different sample sizes?\"\n",
    "]\n",
    "\n",
    "# Calculate sentence embeddings for the questions\n",
    "question_embeddings = model.encode(questions)\n",
    "\n",
    "# Define the answers corresponding to each question\n",
    "answers = [\n",
    "    f\"The total number of apples in the batch is {len(sample32)}.\",\n",
    "    f\"The percentage of bad apples is {perc_bad_apples:.2f}%.\",\n",
    "    f\"The number of bad apples in an approved batch is {amount_bad}.\",\n",
    "    f\"The number of apples categorized as blotch is {Blotch_Apple}.\",\n",
    "    f\"The proportion of rotten apples is {Rot_Apple / tot_num_outcome_dict:.2f}.\",\n",
    "    \"Yes, we can use this apple batch to make apple mousse.\",\n",
    "    \"To make apple sauce, we need to evaluate the number of healthy apples based on the desired quantity.\",\n",
    "    \"If the acceptance quality is increased by 1 percentage for klasse 1, we can use this batch for the supermarket.\",\n",
    "    \"The quality of the batch may or may not increase when the batch size is increased. It depends on various factors.\",\n",
    "    \"The average ratio between healthy and unhealthy apples can be calculated based on different sample sizes.\"\n",
    "]\n",
    "\n",
    "# Define a function to get the most similar question and its corresponding answer\n",
    "def get_answer(user_query):\n",
    "    query_embedding = model.encode([user_query]).flatten()  # Flatten the query_embedding\n",
    "    similarities = [1 - cosine(query_embedding, q_emb) for q_emb in question_embeddings]\n",
    "    most_similar_idx = similarities.index(max(similarities))\n",
    "    return answers[most_similar_idx]\n",
    "\n",
    "# Chat bot loop\n",
    "while True:\n",
    "    user_input = input(\"User: \")\n",
    "    if user_input.lower() == \"exit\":\n",
    "        print(\"Chat bot: Goodbye!\")\n",
    "        break\n",
    "    else:\n",
    "        response = get_answer(user_input)\n",
    "        print(\"Chat bot:\", response)"
   ]
  },
  {
   "cell_type": "code",
   "execution_count": null,
   "id": "575f8203-9d4b-4cd8-8e78-0fa52829e169",
   "metadata": {},
   "outputs": [],
   "source": []
  }
 ],
 "metadata": {
  "kernelspec": {
   "display_name": "Python 3 (ipykernel)",
   "language": "python",
   "name": "python3"
  },
  "language_info": {
   "codemirror_mode": {
    "name": "ipython",
    "version": 3
   },
   "file_extension": ".py",
   "mimetype": "text/x-python",
   "name": "python",
   "nbconvert_exporter": "python",
   "pygments_lexer": "ipython3",
   "version": "3.10.10"
  }
 },
 "nbformat": 4,
 "nbformat_minor": 5
}
